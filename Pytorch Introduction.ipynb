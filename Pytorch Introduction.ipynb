{
 "cells": [
  {
   "cell_type": "markdown",
   "id": "80a25e88",
   "metadata": {},
   "source": [
    "\n",
    "\n",
    "<h1><center>Pytorch Introduction</center></h1>\n",
    "\n",
    "PyTorch is an open-source machine learning framework developed by Facebook's AI research team. It is a popular choice for building deep learning models and is known for its flexibility, ease of use, and speed. PyTorch allows developers to create and train neural networks, perform numerical computations, and implement complex algorithms with ease. It provides various tools and libraries that make it easy to work with complex data and models, such as torch.autograd for automatic differentiation, torch.nn for building neural networks, and torch.optim for optimization algorithms. PyTorch is widely used in both research and industry applications and is considered one of the top deep learning frameworks available."
   ]
  },
  {
   "cell_type": "markdown",
   "id": "8f433a93",
   "metadata": {},
   "source": [
    "## Basic commands and Libraries"
   ]
  },
  {
   "cell_type": "code",
   "execution_count": 2,
   "id": "16c4a72d",
   "metadata": {
    "scrolled": true
   },
   "outputs": [
    {
     "name": "stdout",
     "output_type": "stream",
     "text": [
      "1.13.1+cpu\n"
     ]
    }
   ],
   "source": [
    "import torch\n",
    "import pandas as pd\n",
    "import numpy as np\n",
    "import matplotlib.pyplot as plt\n",
    "print(torch.__version__)"
   ]
  },
  {
   "cell_type": "markdown",
   "id": "ce184c4c",
   "metadata": {},
   "source": [
    "## Introduction to Tensors"
   ]
  },
  {
   "cell_type": "markdown",
   "id": "ee23d419",
   "metadata": {},
   "source": [
    "Fundamental building blocks of the neural network\n",
    "1. `Scalar`\n",
    "2. `Vector`\n",
    "3. `Tensor`\n",
    "4. `Matrix`"
   ]
  },
  {
   "cell_type": "markdown",
   "id": "b0fa95e8",
   "metadata": {},
   "source": [
    "## Scalar and Vectors - 1 and 2 Dimensions"
   ]
  },
  {
   "cell_type": "code",
   "execution_count": 3,
   "id": "f8159899",
   "metadata": {},
   "outputs": [
    {
     "data": {
      "text/plain": [
       "tensor(7)"
      ]
     },
     "execution_count": 3,
     "metadata": {},
     "output_type": "execute_result"
    }
   ],
   "source": [
    "# Scalar - one dimension\n",
    "\n",
    "scalar = torch.tensor(7)\n",
    "scalar"
   ]
  },
  {
   "cell_type": "code",
   "execution_count": 64,
   "id": "89c31903",
   "metadata": {
    "scrolled": true
   },
   "outputs": [
    {
     "data": {
      "text/plain": [
       "0"
      ]
     },
     "execution_count": 64,
     "metadata": {},
     "output_type": "execute_result"
    }
   ],
   "source": [
    "scalar.ndim"
   ]
  },
  {
   "cell_type": "code",
   "execution_count": 5,
   "id": "7f558757",
   "metadata": {},
   "outputs": [
    {
     "data": {
      "text/plain": [
       "torch.Size([])"
      ]
     },
     "execution_count": 5,
     "metadata": {},
     "output_type": "execute_result"
    }
   ],
   "source": [
    "scalar.shape"
   ]
  },
  {
   "cell_type": "code",
   "execution_count": 6,
   "id": "e0f52142",
   "metadata": {},
   "outputs": [
    {
     "data": {
      "text/plain": [
       "tensor([7, 7])"
      ]
     },
     "execution_count": 6,
     "metadata": {},
     "output_type": "execute_result"
    }
   ],
   "source": [
    "# Vector - two dimensions\n",
    "\n",
    "vector = torch.tensor([7, 7])\n",
    "vector"
   ]
  },
  {
   "cell_type": "code",
   "execution_count": 7,
   "id": "e1901ed1",
   "metadata": {},
   "outputs": [
    {
     "data": {
      "text/plain": [
       "1"
      ]
     },
     "execution_count": 7,
     "metadata": {},
     "output_type": "execute_result"
    }
   ],
   "source": [
    "vector.ndim"
   ]
  },
  {
   "cell_type": "code",
   "execution_count": 8,
   "id": "046a09b5",
   "metadata": {},
   "outputs": [
    {
     "data": {
      "text/plain": [
       "torch.Size([2])"
      ]
     },
     "execution_count": 8,
     "metadata": {},
     "output_type": "execute_result"
    }
   ],
   "source": [
    "vector.shape"
   ]
  },
  {
   "cell_type": "markdown",
   "id": "bdbb6c43",
   "metadata": {},
   "source": [
    "## Matrixes and Tensors - Multiple Dimensions"
   ]
  },
  {
   "cell_type": "code",
   "execution_count": 9,
   "id": "15256144",
   "metadata": {},
   "outputs": [
    {
     "data": {
      "text/plain": [
       "tensor([[ 7,  8],\n",
       "        [ 9, 10]])"
      ]
     },
     "execution_count": 9,
     "metadata": {},
     "output_type": "execute_result"
    }
   ],
   "source": [
    "# Matrix \n",
    "\n",
    "MATRIX = torch.tensor([[7,8],\n",
    "                       [9, 10]])\n",
    "MATRIX"
   ]
  },
  {
   "cell_type": "code",
   "execution_count": 10,
   "id": "a8e49cf8",
   "metadata": {},
   "outputs": [
    {
     "data": {
      "text/plain": [
       "2"
      ]
     },
     "execution_count": 10,
     "metadata": {},
     "output_type": "execute_result"
    }
   ],
   "source": [
    "MATRIX.ndim"
   ]
  },
  {
   "cell_type": "code",
   "execution_count": 11,
   "id": "5abfaa23",
   "metadata": {},
   "outputs": [
    {
     "data": {
      "text/plain": [
       "torch.Size([2, 2])"
      ]
     },
     "execution_count": 11,
     "metadata": {},
     "output_type": "execute_result"
    }
   ],
   "source": [
    "MATRIX.shape"
   ]
  },
  {
   "cell_type": "code",
   "execution_count": 12,
   "id": "4fc0ee14",
   "metadata": {},
   "outputs": [
    {
     "data": {
      "text/plain": [
       "tensor([[[1, 2, 3],\n",
       "         [4, 5, 6],\n",
       "         [7, 8, 9]]])"
      ]
     },
     "execution_count": 12,
     "metadata": {},
     "output_type": "execute_result"
    }
   ],
   "source": [
    "# Tensor\n",
    "\n",
    "TENSOR = torch.tensor([[[1, 2, 3],\n",
    "                        [4, 5, 6],\n",
    "                        [7, 8, 9]]])\n",
    "TENSOR"
   ]
  },
  {
   "cell_type": "code",
   "execution_count": 13,
   "id": "15e0f9a9",
   "metadata": {},
   "outputs": [
    {
     "data": {
      "text/plain": [
       "3"
      ]
     },
     "execution_count": 13,
     "metadata": {},
     "output_type": "execute_result"
    }
   ],
   "source": [
    "TENSOR.ndim"
   ]
  },
  {
   "cell_type": "code",
   "execution_count": 14,
   "id": "6242f33c",
   "metadata": {},
   "outputs": [
    {
     "data": {
      "text/plain": [
       "torch.Size([1, 3, 3])"
      ]
     },
     "execution_count": 14,
     "metadata": {},
     "output_type": "execute_result"
    }
   ],
   "source": [
    "TENSOR.shape"
   ]
  },
  {
   "cell_type": "code",
   "execution_count": 15,
   "id": "55250f99",
   "metadata": {},
   "outputs": [
    {
     "data": {
      "text/plain": [
       "tensor([[1, 2, 3],\n",
       "        [4, 5, 6],\n",
       "        [7, 8, 9]])"
      ]
     },
     "execution_count": 15,
     "metadata": {},
     "output_type": "execute_result"
    }
   ],
   "source": [
    "TENSOR[0]"
   ]
  },
  {
   "cell_type": "code",
   "execution_count": 65,
   "id": "526dde20",
   "metadata": {},
   "outputs": [
    {
     "data": {
      "text/plain": [
       "tensor([[[[1, 2, 3],\n",
       "          [4, 5, 6],\n",
       "          [7, 8, 9]]]])"
      ]
     },
     "execution_count": 65,
     "metadata": {},
     "output_type": "execute_result"
    }
   ],
   "source": [
    "# Testing tensors\n",
    "TENSOR_test = torch.tensor([[[[1, 2, 3],\n",
    "                        [4, 5, 6],\n",
    "                        [7, 8, 9]]]])\n",
    "TENSOR_test"
   ]
  },
  {
   "cell_type": "code",
   "execution_count": 17,
   "id": "77afd6d5",
   "metadata": {},
   "outputs": [
    {
     "data": {
      "text/plain": [
       "(torch.Size([1, 1, 3, 3]), 4)"
      ]
     },
     "execution_count": 17,
     "metadata": {},
     "output_type": "execute_result"
    }
   ],
   "source": [
    "TENSOR_test.shape, TENSOR_test.ndim"
   ]
  },
  {
   "cell_type": "markdown",
   "id": "915a20b4",
   "metadata": {},
   "source": [
    "### Random tensors"
   ]
  },
  {
   "cell_type": "markdown",
   "id": "c53d7a1a",
   "metadata": {},
   "source": [
    "Random tensors are important, because the way neural networks learns is by starting with a tensors full \n",
    "of random numbers and then ajust those random numbers to better represent the data.\n",
    "\n",
    "look at numbers -> update -> repeat\n"
   ]
  },
  {
   "cell_type": "code",
   "execution_count": 18,
   "id": "395e4562",
   "metadata": {},
   "outputs": [
    {
     "data": {
      "text/plain": [
       "tensor([[0.3369, 0.5594, 0.7457, 0.5202],\n",
       "        [0.6911, 0.9547, 0.5489, 0.1945],\n",
       "        [0.0610, 0.1490, 0.6235, 0.3518]])"
      ]
     },
     "execution_count": 18,
     "metadata": {},
     "output_type": "execute_result"
    }
   ],
   "source": [
    "# Creating random tensors\n",
    "\n",
    "random_tensor = torch.rand(3, 4)\n",
    "random_tensor"
   ]
  },
  {
   "cell_type": "code",
   "execution_count": 19,
   "id": "10304318",
   "metadata": {},
   "outputs": [
    {
     "data": {
      "text/plain": [
       "(torch.Size([224, 224, 3]), 3)"
      ]
     },
     "execution_count": 19,
     "metadata": {},
     "output_type": "execute_result"
    }
   ],
   "source": [
    "# Creating random tensors with similar shape to an image\n",
    "\n",
    "random_image_size_tensor = torch.rand(224, 224, 3) #heiht, width (both in pixels), color channel\n",
    "random_image_size_tensor.shape, random_image_size_tensor.ndim"
   ]
  },
  {
   "cell_type": "markdown",
   "id": "850e36df",
   "metadata": {},
   "source": [
    "### Zeros and Ones"
   ]
  },
  {
   "cell_type": "code",
   "execution_count": 20,
   "id": "7e299919",
   "metadata": {},
   "outputs": [
    {
     "data": {
      "text/plain": [
       "tensor([[0., 0., 0., 0.],\n",
       "        [0., 0., 0., 0.],\n",
       "        [0., 0., 0., 0.]])"
      ]
     },
     "execution_count": 20,
     "metadata": {},
     "output_type": "execute_result"
    }
   ],
   "source": [
    "zeros = torch.zeros(3, 4)\n",
    "zeros"
   ]
  },
  {
   "cell_type": "code",
   "execution_count": 21,
   "id": "69f397da",
   "metadata": {},
   "outputs": [
    {
     "data": {
      "text/plain": [
       "tensor([[1., 1., 1., 1.],\n",
       "        [1., 1., 1., 1.],\n",
       "        [1., 1., 1., 1.]])"
      ]
     },
     "execution_count": 21,
     "metadata": {},
     "output_type": "execute_result"
    }
   ],
   "source": [
    "ones = torch.ones(3, 4)\n",
    "ones"
   ]
  },
  {
   "cell_type": "code",
   "execution_count": 66,
   "id": "2be6d962",
   "metadata": {},
   "outputs": [
    {
     "name": "stdout",
     "output_type": "stream",
     "text": [
      "torch.float32\n",
      "torch.float32\n"
     ]
    }
   ],
   "source": [
    "print(zeros.dtype)\n",
    "print(ones.dtype)"
   ]
  },
  {
   "cell_type": "markdown",
   "id": "b887556d",
   "metadata": {},
   "source": [
    "### Creating a range of tensors"
   ]
  },
  {
   "cell_type": "code",
   "execution_count": 23,
   "id": "41a506e9",
   "metadata": {},
   "outputs": [
    {
     "data": {
      "text/plain": [
       "tensor([0, 1, 2, 3, 4, 5, 6, 7, 8, 9])"
      ]
     },
     "execution_count": 23,
     "metadata": {},
     "output_type": "execute_result"
    }
   ],
   "source": [
    "one_ten = torch.arange(0, 10)\n",
    "one_ten"
   ]
  },
  {
   "cell_type": "code",
   "execution_count": 24,
   "id": "367076d1",
   "metadata": {},
   "outputs": [
    {
     "data": {
      "text/plain": [
       "tensor([0, 0, 0, 0, 0, 0, 0, 0, 0, 0])"
      ]
     },
     "execution_count": 24,
     "metadata": {},
     "output_type": "execute_result"
    }
   ],
   "source": [
    "#Creating tensors like\n",
    "ten_zeros = torch.zeros_like(one_ten)\n",
    "ten_zeros"
   ]
  },
  {
   "cell_type": "markdown",
   "id": "0cee1031",
   "metadata": {},
   "source": [
    "## Tensors datatypes, shape and device\n"
   ]
  },
  {
   "cell_type": "code",
   "execution_count": 74,
   "id": "642e5e3d",
   "metadata": {},
   "outputs": [
    {
     "data": {
      "text/plain": [
       "tensor([3., 6., 9.])"
      ]
     },
     "execution_count": 74,
     "metadata": {},
     "output_type": "execute_result"
    }
   ],
   "source": [
    "# Datatype\n",
    "\n",
    "float_32_dtype = torch.tensor([3.0, 6.0, 9.0],\n",
    "                             dtype=None,\n",
    "                             device=None,\n",
    "                             requires_grad=False)\n",
    "float_32_dtype"
   ]
  },
  {
   "cell_type": "code",
   "execution_count": 26,
   "id": "8d20984b",
   "metadata": {},
   "outputs": [
    {
     "data": {
      "text/plain": [
       "torch.float32"
      ]
     },
     "execution_count": 26,
     "metadata": {},
     "output_type": "execute_result"
    }
   ],
   "source": [
    "float_32_dtype.dtype"
   ]
  },
  {
   "cell_type": "code",
   "execution_count": 27,
   "id": "c144fbcb",
   "metadata": {},
   "outputs": [
    {
     "data": {
      "text/plain": [
       "tensor([3., 6., 9.], dtype=torch.float16)"
      ]
     },
     "execution_count": 27,
     "metadata": {},
     "output_type": "execute_result"
    }
   ],
   "source": [
    "# Changing the datatype\n",
    "float_16_dtype = float_32_dtype.type(torch.float16)\n",
    "float_16_dtype"
   ]
  },
  {
   "cell_type": "markdown",
   "id": "2deb8f99",
   "metadata": {},
   "source": [
    "### Creating Tensors"
   ]
  },
  {
   "cell_type": "code",
   "execution_count": 28,
   "id": "6326f3af",
   "metadata": {},
   "outputs": [
    {
     "data": {
      "text/plain": [
       "tensor([[0.3233, 0.5695, 0.6820, 0.9178],\n",
       "        [0.1521, 0.9426, 0.2499, 0.7729],\n",
       "        [0.7139, 0.5896, 0.5008, 0.2854]])"
      ]
     },
     "execution_count": 28,
     "metadata": {},
     "output_type": "execute_result"
    }
   ],
   "source": [
    "random_tensor = torch.rand(3, 4)\n",
    "random_tensor"
   ]
  },
  {
   "cell_type": "code",
   "execution_count": 29,
   "id": "c7f96712",
   "metadata": {},
   "outputs": [
    {
     "name": "stdout",
     "output_type": "stream",
     "text": [
      "tensor([[0.3233, 0.5695, 0.6820, 0.9178],\n",
      "        [0.1521, 0.9426, 0.2499, 0.7729],\n",
      "        [0.7139, 0.5896, 0.5008, 0.2854]])\n",
      "torch.float32\n",
      "torch.Size([3, 4])\n",
      "cpu\n"
     ]
    }
   ],
   "source": [
    "# Details about the tensor\n",
    "\n",
    "print(random_tensor)\n",
    "print(random_tensor.dtype)\n",
    "print(random_tensor.shape)\n",
    "print(random_tensor.device)"
   ]
  },
  {
   "cell_type": "markdown",
   "id": "fb274922",
   "metadata": {},
   "source": [
    "## Tensors Operations"
   ]
  },
  {
   "cell_type": "code",
   "execution_count": 30,
   "id": "db546a94",
   "metadata": {},
   "outputs": [
    {
     "data": {
      "text/plain": [
       "tensor([[11, 12, 13],\n",
       "        [14, 15, 16]])"
      ]
     },
     "execution_count": 30,
     "metadata": {},
     "output_type": "execute_result"
    }
   ],
   "source": [
    "tensor1 = torch.tensor([[1, 2, 3],\n",
    "                       [4, 5, 6]])\n",
    "tensor1 + 10"
   ]
  },
  {
   "cell_type": "code",
   "execution_count": 31,
   "id": "3ed153dc",
   "metadata": {},
   "outputs": [
    {
     "data": {
      "text/plain": [
       "tensor([[-9, -8, -7],\n",
       "        [-6, -5, -4]])"
      ]
     },
     "execution_count": 31,
     "metadata": {},
     "output_type": "execute_result"
    }
   ],
   "source": [
    "tensor1 - 10"
   ]
  },
  {
   "cell_type": "code",
   "execution_count": 32,
   "id": "1342096e",
   "metadata": {},
   "outputs": [
    {
     "data": {
      "text/plain": [
       "tensor([[10, 20, 30],\n",
       "        [40, 50, 60]])"
      ]
     },
     "execution_count": 32,
     "metadata": {},
     "output_type": "execute_result"
    }
   ],
   "source": [
    "tensor1 * 10\n",
    "# Or\n",
    "torch.mul(tensor1, 10)"
   ]
  },
  {
   "cell_type": "code",
   "execution_count": 33,
   "id": "8409aab7",
   "metadata": {},
   "outputs": [
    {
     "data": {
      "text/plain": [
       "tensor([[0.1000, 0.2000, 0.3000],\n",
       "        [0.4000, 0.5000, 0.6000]])"
      ]
     },
     "execution_count": 33,
     "metadata": {},
     "output_type": "execute_result"
    }
   ],
   "source": [
    "tensor1 / 10"
   ]
  },
  {
   "cell_type": "markdown",
   "id": "54558fa7",
   "metadata": {},
   "source": [
    "### Matrix Multiplication"
   ]
  },
  {
   "cell_type": "code",
   "execution_count": 34,
   "id": "6e314d26",
   "metadata": {
    "scrolled": true
   },
   "outputs": [
    {
     "data": {
      "text/plain": [
       "tensor([[14, 32],\n",
       "        [32, 77]])"
      ]
     },
     "execution_count": 34,
     "metadata": {},
     "output_type": "execute_result"
    }
   ],
   "source": [
    "torch.matmul(tensor1, tensor1.T)\n",
    "# Or\n",
    "torch.mm(tensor1, tensor1.T)\n",
    "# Or\n",
    "tensor_final = tensor1 @ tensor1.T\n",
    "tensor_final"
   ]
  },
  {
   "cell_type": "code",
   "execution_count": 35,
   "id": "5b64e9ff",
   "metadata": {},
   "outputs": [
    {
     "data": {
      "text/plain": [
       "torch.Size([2, 2])"
      ]
     },
     "execution_count": 35,
     "metadata": {},
     "output_type": "execute_result"
    }
   ],
   "source": [
    "tensor_final.shape"
   ]
  },
  {
   "cell_type": "markdown",
   "id": "08d9904e",
   "metadata": {},
   "source": [
    "### Tensor Aggregation\n",
    "sum, mean, max, min"
   ]
  },
  {
   "cell_type": "code",
   "execution_count": 36,
   "id": "9c1d9196",
   "metadata": {
    "scrolled": true
   },
   "outputs": [
    {
     "data": {
      "text/plain": [
       "tensor([ 1, 11, 21, 31, 41, 51, 61, 71, 81, 91])"
      ]
     },
     "execution_count": 36,
     "metadata": {},
     "output_type": "execute_result"
    }
   ],
   "source": [
    "x = torch.arange(1, 100, 10)\n",
    "x"
   ]
  },
  {
   "cell_type": "code",
   "execution_count": 37,
   "id": "6d5b94b8",
   "metadata": {},
   "outputs": [
    {
     "data": {
      "text/plain": [
       "(tensor(460), tensor(460))"
      ]
     },
     "execution_count": 37,
     "metadata": {},
     "output_type": "execute_result"
    }
   ],
   "source": [
    "# Sum\n",
    "torch.sum(x), x.sum()"
   ]
  },
  {
   "cell_type": "code",
   "execution_count": 38,
   "id": "255157e0",
   "metadata": {},
   "outputs": [
    {
     "data": {
      "text/plain": [
       "(tensor(1), tensor(1))"
      ]
     },
     "execution_count": 38,
     "metadata": {},
     "output_type": "execute_result"
    }
   ],
   "source": [
    "# Min\n",
    "torch.min(x), x.min()"
   ]
  },
  {
   "cell_type": "code",
   "execution_count": 39,
   "id": "d2718ed2",
   "metadata": {},
   "outputs": [
    {
     "data": {
      "text/plain": [
       "(tensor(91), tensor(91))"
      ]
     },
     "execution_count": 39,
     "metadata": {},
     "output_type": "execute_result"
    }
   ],
   "source": [
    "# Max\n",
    "torch.max(x), x.max()"
   ]
  },
  {
   "cell_type": "code",
   "execution_count": 40,
   "id": "e80724a2",
   "metadata": {},
   "outputs": [
    {
     "data": {
      "text/plain": [
       "(tensor(46.), tensor(46.))"
      ]
     },
     "execution_count": 40,
     "metadata": {},
     "output_type": "execute_result"
    }
   ],
   "source": [
    "# Mean\n",
    "torch.mean(x.type(torch.float32)), x.type(torch.float32).mean()"
   ]
  },
  {
   "cell_type": "code",
   "execution_count": 41,
   "id": "1222a849",
   "metadata": {},
   "outputs": [
    {
     "data": {
      "text/plain": [
       "tensor(9)"
      ]
     },
     "execution_count": 41,
     "metadata": {},
     "output_type": "execute_result"
    }
   ],
   "source": [
    "# Finding the position of the max value\n",
    "x.argmax()\n",
    "# The max value is in the position 9"
   ]
  },
  {
   "cell_type": "markdown",
   "id": "b787d9ec",
   "metadata": {},
   "source": [
    "### Reshaping, view and stack"
   ]
  },
  {
   "cell_type": "code",
   "execution_count": 69,
   "id": "18748fea",
   "metadata": {},
   "outputs": [
    {
     "data": {
      "text/plain": [
       "(tensor([1., 2., 3., 4., 5., 6., 7., 8., 9.]), torch.Size([9]), 1)"
      ]
     },
     "execution_count": 69,
     "metadata": {},
     "output_type": "execute_result"
    }
   ],
   "source": [
    "x = torch.arange(1., 10.)\n",
    "x, x.shape, x.ndim"
   ]
  },
  {
   "cell_type": "code",
   "execution_count": 67,
   "id": "3b935574",
   "metadata": {},
   "outputs": [
    {
     "data": {
      "text/plain": [
       "(tensor([[1, 2, 3, 4, 5, 6, 7, 8, 9]]), torch.Size([1, 9]), 2)"
      ]
     },
     "execution_count": 67,
     "metadata": {},
     "output_type": "execute_result"
    }
   ],
   "source": [
    "# Adding one dimension\n",
    "x_reshaped = x.reshape(1, 9)\n",
    "x_reshaped, x_reshaped.shape, x_reshaped.ndim"
   ]
  },
  {
   "cell_type": "code",
   "execution_count": 44,
   "id": "78ece3eb",
   "metadata": {},
   "outputs": [
    {
     "data": {
      "text/plain": [
       "(tensor([[1., 2., 3., 4., 5., 6., 7., 8., 9.]]), torch.Size([1, 9]))"
      ]
     },
     "execution_count": 44,
     "metadata": {},
     "output_type": "execute_result"
    }
   ],
   "source": [
    "# Changing the view\n",
    "z = x.view(1, 9)\n",
    "z, z.shape"
   ]
  },
  {
   "cell_type": "code",
   "execution_count": 45,
   "id": "e251757a",
   "metadata": {},
   "outputs": [
    {
     "data": {
      "text/plain": [
       "tensor([[1., 2., 3., 4., 5., 6., 7., 8., 9.],\n",
       "        [1., 2., 3., 4., 5., 6., 7., 8., 9.],\n",
       "        [1., 2., 3., 4., 5., 6., 7., 8., 9.],\n",
       "        [1., 2., 3., 4., 5., 6., 7., 8., 9.]])"
      ]
     },
     "execution_count": 45,
     "metadata": {},
     "output_type": "execute_result"
    }
   ],
   "source": [
    "# Stacking\n",
    "x_stacked = torch.stack([x, x, x, x], dim=0)\n",
    "x_stacked"
   ]
  },
  {
   "cell_type": "code",
   "execution_count": 46,
   "id": "8416f541",
   "metadata": {},
   "outputs": [
    {
     "data": {
      "text/plain": [
       "(tensor([[1., 2., 3., 4., 5., 6., 7., 8., 9.]]), torch.Size([1, 9]))"
      ]
     },
     "execution_count": 46,
     "metadata": {},
     "output_type": "execute_result"
    }
   ],
   "source": [
    "x_reshaped, x_reshaped.shape"
   ]
  },
  {
   "cell_type": "code",
   "execution_count": 47,
   "id": "b5e7e7c7",
   "metadata": {},
   "outputs": [
    {
     "data": {
      "text/plain": [
       "tensor([1., 2., 3., 4., 5., 6., 7., 8., 9.])"
      ]
     },
     "execution_count": 47,
     "metadata": {},
     "output_type": "execute_result"
    }
   ],
   "source": [
    "#Squeeze reduces one dimention\n",
    "x_squeezed = x_reshaped.squeeze()\n",
    "x_squeezed"
   ]
  },
  {
   "cell_type": "code",
   "execution_count": 48,
   "id": "8a6c85b1",
   "metadata": {},
   "outputs": [
    {
     "data": {
      "text/plain": [
       "torch.Size([9])"
      ]
     },
     "execution_count": 48,
     "metadata": {},
     "output_type": "execute_result"
    }
   ],
   "source": [
    "x_squeezed.shape"
   ]
  },
  {
   "cell_type": "code",
   "execution_count": 49,
   "id": "43de8ac8",
   "metadata": {},
   "outputs": [
    {
     "data": {
      "text/plain": [
       "tensor([[1., 2., 3., 4., 5., 6., 7., 8., 9.]])"
      ]
     },
     "execution_count": 49,
     "metadata": {},
     "output_type": "execute_result"
    }
   ],
   "source": [
    "#Unsqueeze adds one dimention\n",
    "x_unsqueezed = x_squeezed.unsqueeze(dim=0)\n",
    "x_unsqueezed"
   ]
  },
  {
   "cell_type": "code",
   "execution_count": 50,
   "id": "7fdc1734",
   "metadata": {},
   "outputs": [
    {
     "data": {
      "text/plain": [
       "torch.Size([1, 9])"
      ]
     },
     "execution_count": 50,
     "metadata": {},
     "output_type": "execute_result"
    }
   ],
   "source": [
    "x_unsqueezed.shape"
   ]
  },
  {
   "cell_type": "code",
   "execution_count": 51,
   "id": "4e558668",
   "metadata": {},
   "outputs": [
    {
     "name": "stdout",
     "output_type": "stream",
     "text": [
      "torch.Size([224, 224, 3])\n",
      "torch.Size([3, 224, 224])\n"
     ]
    }
   ],
   "source": [
    "# Permute rearanges the tensor dimensional order\n",
    "x_original = torch.rand(224, 224, 3)\n",
    "print(x_original.shape)\n",
    "\n",
    "x_permuted = x_original.permute(2, 0, 1)\n",
    "print(x_permuted.shape) "
   ]
  },
  {
   "cell_type": "markdown",
   "id": "6262bb16",
   "metadata": {},
   "source": [
    "### Indexing - Selecting data from tensors"
   ]
  },
  {
   "cell_type": "code",
   "execution_count": 70,
   "id": "f1b1c578",
   "metadata": {},
   "outputs": [
    {
     "data": {
      "text/plain": [
       "(tensor([[[1, 2, 3],\n",
       "          [4, 5, 6],\n",
       "          [7, 8, 9]]]),\n",
       " torch.Size([1, 3, 3]),\n",
       " 3)"
      ]
     },
     "execution_count": 70,
     "metadata": {},
     "output_type": "execute_result"
    }
   ],
   "source": [
    "x = torch.arange(1, 10).reshape(1, 3, 3)\n",
    "x, x.shape, x.ndim"
   ]
  },
  {
   "cell_type": "code",
   "execution_count": 53,
   "id": "900c7a32",
   "metadata": {},
   "outputs": [
    {
     "data": {
      "text/plain": [
       "tensor([[1, 2, 3],\n",
       "        [4, 5, 6],\n",
       "        [7, 8, 9]])"
      ]
     },
     "execution_count": 53,
     "metadata": {},
     "output_type": "execute_result"
    }
   ],
   "source": [
    "x[0]"
   ]
  },
  {
   "cell_type": "code",
   "execution_count": 54,
   "id": "14b93308",
   "metadata": {},
   "outputs": [
    {
     "data": {
      "text/plain": [
       "tensor([1, 2, 3])"
      ]
     },
     "execution_count": 54,
     "metadata": {},
     "output_type": "execute_result"
    }
   ],
   "source": [
    "x[0][0]"
   ]
  },
  {
   "cell_type": "code",
   "execution_count": 55,
   "id": "b52516cc",
   "metadata": {},
   "outputs": [
    {
     "data": {
      "text/plain": [
       "tensor(1)"
      ]
     },
     "execution_count": 55,
     "metadata": {},
     "output_type": "execute_result"
    }
   ],
   "source": [
    "x[0][0][0]"
   ]
  },
  {
   "cell_type": "markdown",
   "id": "2bb06b77",
   "metadata": {},
   "source": [
    "### PyTorch Tensors vs NumPy Datatypes"
   ]
  },
  {
   "cell_type": "code",
   "execution_count": 72,
   "id": "530ce291",
   "metadata": {},
   "outputs": [
    {
     "data": {
      "text/plain": [
       "(array([1., 2., 3., 4., 5., 6., 7.]),\n",
       " dtype('float64'),\n",
       " tensor([1., 2., 3., 4., 5., 6., 7.], dtype=torch.float64),\n",
       " torch.float64)"
      ]
     },
     "execution_count": 72,
     "metadata": {},
     "output_type": "execute_result"
    }
   ],
   "source": [
    "array = np.arange(1.0, 8.0)\n",
    "tensor = torch.from_numpy(array)\n",
    "array, array.dtype, tensor, tensor.dtype"
   ]
  },
  {
   "cell_type": "markdown",
   "id": "492b24ae",
   "metadata": {},
   "source": [
    "As shown above, the dtype of array on numpy and the dtype of pytorch are different"
   ]
  },
  {
   "cell_type": "markdown",
   "id": "7c776079",
   "metadata": {},
   "source": [
    "### Manipulating RNG in PyTorch\n",
    "\n",
    "Reproduciability - Helpful when trying to reproduce the same model elsewhere"
   ]
  },
  {
   "cell_type": "code",
   "execution_count": 58,
   "id": "5eb97de2",
   "metadata": {},
   "outputs": [
    {
     "name": "stdout",
     "output_type": "stream",
     "text": [
      "tensor([[0.4581, 0.4829, 0.3125, 0.6150],\n",
      "        [0.2139, 0.4118, 0.6938, 0.9693],\n",
      "        [0.6178, 0.3304, 0.5479, 0.4440]])\n",
      "tensor([[0.4581, 0.4829, 0.3125, 0.6150],\n",
      "        [0.2139, 0.4118, 0.6938, 0.9693],\n",
      "        [0.6178, 0.3304, 0.5479, 0.4440]])\n",
      "tensor([[True, True, True, True],\n",
      "        [True, True, True, True],\n",
      "        [True, True, True, True]])\n"
     ]
    }
   ],
   "source": [
    "# Creating a Manual Seed\n",
    "\n",
    "RANDOM_SEED = 10\n",
    "\n",
    "torch.manual_seed(RANDOM_SEED)\n",
    "random_tensor_A = torch.rand(3, 4)\n",
    "\n",
    "torch.manual_seed(RANDOM_SEED)\n",
    "random_tensor_B = torch.rand(3, 4)\n",
    "\n",
    "print(random_tensor_A)\n",
    "print(random_tensor_B)\n",
    "print(random_tensor_A == random_tensor_B)"
   ]
  },
  {
   "cell_type": "markdown",
   "id": "7f26cd6d",
   "metadata": {},
   "source": [
    "### Accessing the GPU for faster computation"
   ]
  },
  {
   "cell_type": "code",
   "execution_count": 59,
   "id": "96dde020",
   "metadata": {},
   "outputs": [
    {
     "name": "stdout",
     "output_type": "stream",
     "text": [
      "Fri Jan  6 19:13:20 2023       \n",
      "+-----------------------------------------------------------------------------+\n",
      "| NVIDIA-SMI 516.94       Driver Version: 516.94       CUDA Version: 11.7     |\n",
      "|-------------------------------+----------------------+----------------------+\n",
      "| GPU  Name            TCC/WDDM | Bus-Id        Disp.A | Volatile Uncorr. ECC |\n",
      "| Fan  Temp  Perf  Pwr:Usage/Cap|         Memory-Usage | GPU-Util  Compute M. |\n",
      "|                               |                      |               MIG M. |\n",
      "|===============================+======================+======================|\n",
      "|   0  NVIDIA GeForce ... WDDM  | 00000000:07:00.0  On |                  N/A |\n",
      "| 36%   39C    P0    30W / 135W |    987MiB /  6144MiB |      5%      Default |\n",
      "|                               |                      |                  N/A |\n",
      "+-------------------------------+----------------------+----------------------+\n",
      "                                                                               \n",
      "+-----------------------------------------------------------------------------+\n",
      "| Processes:                                                                  |\n",
      "|  GPU   GI   CI        PID   Type   Process name                  GPU Memory |\n",
      "|        ID   ID                                                   Usage      |\n",
      "|=============================================================================|\n",
      "|    0   N/A  N/A      1484    C+G   ...ray\\lghub_system_tray.exe    N/A      |\n",
      "|    0   N/A  N/A      2624    C+G   ...cal\\RuneLite\\RuneLite.exe    N/A      |\n",
      "|    0   N/A  N/A      3860    C+G   ...\\LeagueClientUxRender.exe    N/A      |\n",
      "|    0   N/A  N/A      4900    C+G   ...ram Files\\LGHUB\\lghub.exe    N/A      |\n",
      "|    0   N/A  N/A      5048    C+G   ...dows\\System32\\WWAHost.exe    N/A      |\n",
      "|    0   N/A  N/A      6504    C+G   C:\\Windows\\explorer.exe         N/A      |\n",
      "|    0   N/A  N/A      7440    C+G   ...artMenuExperienceHost.exe    N/A      |\n",
      "|    0   N/A  N/A      7460    C+G   ...5n1h2txyewy\\SearchApp.exe    N/A      |\n",
      "|    0   N/A  N/A      7668    C+G   ...wekyb3d8bbwe\\Video.UI.exe    N/A      |\n",
      "|    0   N/A  N/A      8264    C+G   ...me\\Application\\chrome.exe    N/A      |\n",
      "|    0   N/A  N/A      8828    C+G   ...2txyewy\\TextInputHost.exe    N/A      |\n",
      "|    0   N/A  N/A      9176    C+G   ...cw5n1h2txyewy\\LockApp.exe    N/A      |\n",
      "|    0   N/A  N/A      9644    C+G   ...bbwe\\Microsoft.Photos.exe    N/A      |\n",
      "|    0   N/A  N/A     10080    C+G   ...5n1h2txyewy\\SearchApp.exe    N/A      |\n",
      "|    0   N/A  N/A     11468    C+G   ...y\\ShellExperienceHost.exe    N/A      |\n",
      "|    0   N/A  N/A     11696    C+G   ...e\\PhoneExperienceHost.exe    N/A      |\n",
      "|    0   N/A  N/A     15048    C+G   ...4__8wekyb3d8bbwe\\Time.exe    N/A      |\n",
      "+-----------------------------------------------------------------------------+\n"
     ]
    }
   ],
   "source": [
    "!nvidia-smi"
   ]
  },
  {
   "cell_type": "code",
   "execution_count": 60,
   "id": "cae72f14",
   "metadata": {},
   "outputs": [
    {
     "data": {
      "text/plain": [
       "False"
      ]
     },
     "execution_count": 60,
     "metadata": {},
     "output_type": "execute_result"
    }
   ],
   "source": [
    "torch.cuda.is_available()"
   ]
  },
  {
   "cell_type": "code",
   "execution_count": 61,
   "id": "69f39190",
   "metadata": {},
   "outputs": [
    {
     "data": {
      "text/plain": [
       "True"
      ]
     },
     "execution_count": 61,
     "metadata": {},
     "output_type": "execute_result"
    }
   ],
   "source": [
    "torch.backends.cudnn.enabled"
   ]
  },
  {
   "cell_type": "markdown",
   "id": "6095a72d",
   "metadata": {},
   "source": [
    "## Device - Using the models on the GPU"
   ]
  },
  {
   "cell_type": "code",
   "execution_count": 62,
   "id": "73ab53f5",
   "metadata": {},
   "outputs": [
    {
     "data": {
      "text/plain": [
       "(tensor([1, 2, 3]), device(type='cpu'))"
      ]
     },
     "execution_count": 62,
     "metadata": {},
     "output_type": "execute_result"
    }
   ],
   "source": [
    "tensor = torch.tensor([1, 2, 3])\n",
    "tensor, tensor.device"
   ]
  },
  {
   "cell_type": "code",
   "execution_count": 73,
   "id": "da213b1d",
   "metadata": {},
   "outputs": [
    {
     "data": {
      "text/plain": [
       "'\\nThe device is set to \"cuda\", if available\\n\\ndevice = \"cuda\"\\ntensor_on_gpu = tensor.to(device)\\n'"
      ]
     },
     "execution_count": 73,
     "metadata": {},
     "output_type": "execute_result"
    }
   ],
   "source": [
    "'''\n",
    "# The device is set to \"cuda\", if available\n",
    "\n",
    "device = \"cuda\"\n",
    "tensor_on_gpu = tensor.to(device)\n",
    "'''"
   ]
  },
  {
   "cell_type": "markdown",
   "id": "db6cc392",
   "metadata": {},
   "source": [
    "## Most commons errors with tensors"
   ]
  },
  {
   "cell_type": "markdown",
   "id": "db0a10a9",
   "metadata": {},
   "source": [
    "1. tensors not in the right datatype - `tensor.dtype`\n",
    "2. tensors not in the right shape - `tensor.shape`\n",
    "3. tensors not in the right device - `tensor.device`"
   ]
  }
 ],
 "metadata": {
  "kernelspec": {
   "display_name": "Python 3 (ipykernel)",
   "language": "python",
   "name": "python3"
  },
  "language_info": {
   "codemirror_mode": {
    "name": "ipython",
    "version": 3
   },
   "file_extension": ".py",
   "mimetype": "text/x-python",
   "name": "python",
   "nbconvert_exporter": "python",
   "pygments_lexer": "ipython3",
   "version": "3.9.12"
  }
 },
 "nbformat": 4,
 "nbformat_minor": 5
}
